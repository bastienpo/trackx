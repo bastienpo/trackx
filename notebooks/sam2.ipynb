{
 "cells": [
  {
   "cell_type": "code",
   "execution_count": 6,
   "metadata": {},
   "outputs": [
    {
     "name": "stdout",
     "output_type": "stream",
     "text": [
      "Model summary: 422 layers, 38,945,986 parameters, 38,945,986 gradients\n"
     ]
    },
    {
     "data": {
      "text/plain": [
       "(422, 38945986, 38945986, 0.0)"
      ]
     },
     "execution_count": 6,
     "metadata": {},
     "output_type": "execute_result"
    }
   ],
   "source": [
    "from ultralytics import SAM\n",
    "\n",
    "model = SAM(\"data/sam2_t.pt\")\n",
    "\n",
    "model.info()"
   ]
  },
  {
   "cell_type": "code",
   "execution_count": 17,
   "metadata": {},
   "outputs": [
    {
     "name": "stdout",
     "output_type": "stream",
     "text": [
      "\n",
      "image 1/1 /home/h/Dev/tracker/image.png: 1024x1024 2155.1ms\n",
      "Speed: 6.0ms preprocess, 2155.1ms inference, 22.4ms postprocess per image at shape (1, 3, 1024, 1024)\n"
     ]
    }
   ],
   "source": [
    "# Segment with bounding box prompt\n",
    "\n",
    "# define 32 points in range of 1500x980 image\n",
    "\n",
    "points = [\n",
    "    [10, 10], [100, 10], [200, 10], [300, 10], [400, 10], [500, 10], [600, 10], [700, 10], [800, 10], [900, 10],\n",
    "]\n",
    "\n",
    "from PIL import Image\n",
    "results = model(\"image.png\", points=points, labels=[1, 2, 3, 4, 5], device=\"cpu\")\n",
    "\n",
    "# Visualize the results\n",
    "for i, r in enumerate(results):\n",
    "    # Plot results image\n",
    "    im_bgr = r.plot()  # BGR-order numpy array\n",
    "    im_rgb = Image.fromarray(im_bgr[..., ::-1])  # RGB-order PIL image\n",
    "\n",
    "    r.show()\n",
    "\n",
    "    # Save results to disk\n",
    "    r.save(filename=f\"results{i}.jpg\")"
   ]
  },
  {
   "cell_type": "code",
   "execution_count": null,
   "metadata": {},
   "outputs": [],
   "source": []
  }
 ],
 "metadata": {
  "kernelspec": {
   "display_name": ".venv",
   "language": "python",
   "name": "python3"
  },
  "language_info": {
   "codemirror_mode": {
    "name": "ipython",
    "version": 3
   },
   "file_extension": ".py",
   "mimetype": "text/x-python",
   "name": "python",
   "nbconvert_exporter": "python",
   "pygments_lexer": "ipython3",
   "version": "3.12.2"
  }
 },
 "nbformat": 4,
 "nbformat_minor": 2
}
